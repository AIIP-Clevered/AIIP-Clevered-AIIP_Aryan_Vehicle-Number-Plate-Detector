{
 "cells": [
  {
   "cell_type": "code",
   "execution_count": 1,
   "id": "6882a96d-d31e-430f-8fb7-b4c029119a5a",
   "metadata": {},
   "outputs": [
    {
     "name": "stdout",
     "output_type": "stream",
     "text": [
      "Requirement already satisfied: opencv-contrib-python in c:\\users\\janvi\\appdata\\local\\programs\\python\\python39\\lib\\site-packages (4.10.0.84)\n",
      "Requirement already satisfied: numpy>=1.17.3 in c:\\users\\janvi\\appdata\\local\\programs\\python\\python39\\lib\\site-packages (from opencv-contrib-python) (1.26.4)\n",
      "Note: you may need to restart the kernel to use updated packages.\n"
     ]
    },
    {
     "name": "stderr",
     "output_type": "stream",
     "text": [
      "WARNING: Ignoring invalid distribution -pencv-contrib-python (c:\\users\\janvi\\appdata\\local\\programs\\python\\python39\\lib\\site-packages)\n",
      "WARNING: Ignoring invalid distribution -pencv-contrib-python (c:\\users\\janvi\\appdata\\local\\programs\\python\\python39\\lib\\site-packages)\n",
      "WARNING: Ignoring invalid distribution -pencv-contrib-python (c:\\users\\janvi\\appdata\\local\\programs\\python\\python39\\lib\\site-packages)\n",
      "WARNING: Ignoring invalid distribution -pencv-contrib-python (c:\\users\\janvi\\appdata\\local\\programs\\python\\python39\\lib\\site-packages)\n",
      "WARNING: Ignoring invalid distribution -pencv-contrib-python (c:\\users\\janvi\\appdata\\local\\programs\\python\\python39\\lib\\site-packages)\n",
      "WARNING: Ignoring invalid distribution -pencv-contrib-python (c:\\users\\janvi\\appdata\\local\\programs\\python\\python39\\lib\\site-packages)\n",
      "WARNING: You are using pip version 21.2.3; however, version 24.2 is available.\n",
      "You should consider upgrading via the 'C:\\Users\\janvi\\AppData\\Local\\Programs\\Python\\Python39\\python.exe -m pip install --upgrade pip' command.\n"
     ]
    }
   ],
   "source": [
    "pip install opencv-contrib-python"
   ]
  },
  {
   "cell_type": "code",
   "execution_count": 2,
   "id": "5178ed0a-4b2e-4d27-9704-ee0c7d62e28d",
   "metadata": {},
   "outputs": [
    {
     "name": "stdout",
     "output_type": "stream",
     "text": [
      "Requirement already satisfied: opencv-python in c:\\users\\janvi\\appdata\\local\\programs\\python\\python39\\lib\\site-packages (4.9.0.80)\n",
      "Requirement already satisfied: numpy>=1.19.3 in c:\\users\\janvi\\appdata\\local\\programs\\python\\python39\\lib\\site-packages (from opencv-python) (1.26.4)\n",
      "Note: you may need to restart the kernel to use updated packages.\n"
     ]
    },
    {
     "name": "stderr",
     "output_type": "stream",
     "text": [
      "WARNING: Ignoring invalid distribution -pencv-contrib-python (c:\\users\\janvi\\appdata\\local\\programs\\python\\python39\\lib\\site-packages)\n",
      "WARNING: Ignoring invalid distribution -pencv-contrib-python (c:\\users\\janvi\\appdata\\local\\programs\\python\\python39\\lib\\site-packages)\n",
      "WARNING: Ignoring invalid distribution -pencv-contrib-python (c:\\users\\janvi\\appdata\\local\\programs\\python\\python39\\lib\\site-packages)\n",
      "WARNING: Ignoring invalid distribution -pencv-contrib-python (c:\\users\\janvi\\appdata\\local\\programs\\python\\python39\\lib\\site-packages)\n",
      "WARNING: Ignoring invalid distribution -pencv-contrib-python (c:\\users\\janvi\\appdata\\local\\programs\\python\\python39\\lib\\site-packages)\n",
      "WARNING: Ignoring invalid distribution -pencv-contrib-python (c:\\users\\janvi\\appdata\\local\\programs\\python\\python39\\lib\\site-packages)\n",
      "WARNING: You are using pip version 21.2.3; however, version 24.2 is available.\n",
      "You should consider upgrading via the 'C:\\Users\\janvi\\AppData\\Local\\Programs\\Python\\Python39\\python.exe -m pip install --upgrade pip' command.\n"
     ]
    }
   ],
   "source": [
    "pip install opencv-python"
   ]
  },
  {
   "cell_type": "code",
   "execution_count": 3,
   "id": "7e693c52-e2ba-4dd5-a909-2a052be0ab33",
   "metadata": {},
   "outputs": [
    {
     "name": "stdout",
     "output_type": "stream",
     "text": [
      "Requirement already satisfied: pytesseract in c:\\users\\janvi\\appdata\\local\\programs\\python\\python39\\lib\\site-packages (0.3.10)\n",
      "Requirement already satisfied: packaging>=21.3 in c:\\users\\janvi\\appdata\\local\\programs\\python\\python39\\lib\\site-packages (from pytesseract) (24.0)\n",
      "Requirement already satisfied: Pillow>=8.0.0 in c:\\users\\janvi\\appdata\\local\\programs\\python\\python39\\lib\\site-packages (from pytesseract) (10.3.0)\n",
      "Note: you may need to restart the kernel to use updated packages.\n"
     ]
    },
    {
     "name": "stderr",
     "output_type": "stream",
     "text": [
      "WARNING: Ignoring invalid distribution -pencv-contrib-python (c:\\users\\janvi\\appdata\\local\\programs\\python\\python39\\lib\\site-packages)\n",
      "WARNING: Ignoring invalid distribution -pencv-contrib-python (c:\\users\\janvi\\appdata\\local\\programs\\python\\python39\\lib\\site-packages)\n",
      "WARNING: Ignoring invalid distribution -pencv-contrib-python (c:\\users\\janvi\\appdata\\local\\programs\\python\\python39\\lib\\site-packages)\n",
      "WARNING: Ignoring invalid distribution -pencv-contrib-python (c:\\users\\janvi\\appdata\\local\\programs\\python\\python39\\lib\\site-packages)\n",
      "WARNING: Ignoring invalid distribution -pencv-contrib-python (c:\\users\\janvi\\appdata\\local\\programs\\python\\python39\\lib\\site-packages)\n",
      "WARNING: Ignoring invalid distribution -pencv-contrib-python (c:\\users\\janvi\\appdata\\local\\programs\\python\\python39\\lib\\site-packages)\n",
      "WARNING: You are using pip version 21.2.3; however, version 24.2 is available.\n",
      "You should consider upgrading via the 'C:\\Users\\janvi\\AppData\\Local\\Programs\\Python\\Python39\\python.exe -m pip install --upgrade pip' command.\n"
     ]
    }
   ],
   "source": [
    "pip install pytesseract"
   ]
  },
  {
   "cell_type": "code",
   "execution_count": 4,
   "id": "fe5a08e8-5ec2-43e4-b12e-f8d8fa501661",
   "metadata": {},
   "outputs": [
    {
     "name": "stdout",
     "output_type": "stream",
     "text": [
      "Requirement already satisfied: imutils in c:\\users\\janvi\\appdata\\local\\programs\\python\\python39\\lib\\site-packages (0.5.4)Note: you may need to restart the kernel to use updated packages.\n"
     ]
    },
    {
     "name": "stderr",
     "output_type": "stream",
     "text": [
      "WARNING: Ignoring invalid distribution -pencv-contrib-python (c:\\users\\janvi\\appdata\\local\\programs\\python\\python39\\lib\\site-packages)\n",
      "WARNING: Ignoring invalid distribution -pencv-contrib-python (c:\\users\\janvi\\appdata\\local\\programs\\python\\python39\\lib\\site-packages)\n",
      "WARNING: Ignoring invalid distribution -pencv-contrib-python (c:\\users\\janvi\\appdata\\local\\programs\\python\\python39\\lib\\site-packages)\n",
      "WARNING: Ignoring invalid distribution -pencv-contrib-python (c:\\users\\janvi\\appdata\\local\\programs\\python\\python39\\lib\\site-packages)\n",
      "WARNING: Ignoring invalid distribution -pencv-contrib-python (c:\\users\\janvi\\appdata\\local\\programs\\python\\python39\\lib\\site-packages)\n",
      "WARNING: Ignoring invalid distribution -pencv-contrib-python (c:\\users\\janvi\\appdata\\local\\programs\\python\\python39\\lib\\site-packages)\n",
      "WARNING: You are using pip version 21.2.3; however, version 24.2 is available.\n",
      "You should consider upgrading via the 'C:\\Users\\janvi\\AppData\\Local\\Programs\\Python\\Python39\\python.exe -m pip install --upgrade pip' command.\n"
     ]
    },
    {
     "name": "stdout",
     "output_type": "stream",
     "text": [
      "\n"
     ]
    }
   ],
   "source": [
    "pip install imutils"
   ]
  },
  {
   "cell_type": "code",
   "execution_count": 5,
   "id": "345c320a-b9cf-4b3f-911d-2e22f9570144",
   "metadata": {},
   "outputs": [],
   "source": [
    "import cv2\n",
    "import imutils\n",
    "import pytesseract"
   ]
  },
  {
   "cell_type": "code",
   "execution_count": 6,
   "id": "4da23b1b-d410-48a5-a988-131a14fd14d7",
   "metadata": {},
   "outputs": [],
   "source": [
    "pytesseract.pytesseract.tesseract_cmd = 'C:\\Program Files\\Tesseract-OCR\\\\tesseract'"
   ]
  },
  {
   "cell_type": "code",
   "execution_count": 7,
   "id": "1bbcc701-d3f3-4f5c-99b1-7fd28793fec3",
   "metadata": {},
   "outputs": [],
   "source": [
    "def values():\n",
    "    image = cv2.imread('car3.jpg')\n",
    "    image = imutils.resize(image, width=300 )\n",
    "    cv2.imshow(\"original image\", image)\n",
    "    cv2.waitKey(0)\n",
    "    gray_image = cv2.cvtColor(image, cv2.COLOR_BGR2GRAY)\n",
    "    cv2.imshow(\"greyed image\", gray_image)\n",
    "    cv2.waitKey(0)\n",
    "    gray_image = cv2.bilateralFilter(gray_image, 11, 17, 17)\n",
    "    cv2.imshow(\"smoothened image\", gray_image)\n",
    "    cv2.waitKey(0)\n",
    "    edged = cv2.Canny(gray_image, 30, 200)\n",
    "    cv2.imshow(\"edged image\", edged)\n",
    "    cv2.waitKey(0)\n",
    "    cnts,new = cv2.findContours(edged.copy(), cv2.RETR_LIST, cv2.CHAIN_APPROX_SIMPLE)\n",
    "    image1=image.copy()\n",
    "    cv2.drawContours(image1,cnts,-1,(0,255,0),3)\n",
    "    cv2.imshow(\"contours\",image1)\n",
    "    cv2.waitKey(0)\n",
    "    cnts = sorted(cnts, key = cv2.contourArea, reverse = True) [:30]\n",
    "    screenCnt = None\n",
    "    image2 = image.copy()\n",
    "    cv2.drawContours(image2,cnts,-1,(0,255,0),3)\n",
    "    cv2.imshow(\"Top 30 contours\",image2)\n",
    "    cv2.waitKey(0)\n",
    "    i=7\n",
    "    for c in cnts:\n",
    "        perimeter = cv2.arcLength(c, True)\n",
    "        approx = cv2.approxPolyDP(c, 0.018 * perimeter, True)\n",
    "        if len(approx) == 4:\n",
    "            screenCnt = approx\n",
    "        x,y,w,h = cv2.boundingRect(c)\n",
    "        new_img=image[y:y+h,x:x+w]\n",
    "        cv2.imwrite('./'+str(i)+'.png',new_img)\n",
    "        i+=1\n",
    "        cv2.drawContours(image, cnts, -1, (0, 255, 0), 3)\n",
    "        cv2.imshow(\"image with detected license plate\", image)\n",
    "        cv2.waitKey(0)\n",
    "        Cropped_loc = './7.png'\n",
    "        cv2.imshow(\"cropped\", cv2.imread(Cropped_loc))\n",
    "        custom_config = r'-l eng --oem 3 --psm 6'\n",
    "        text = pytesseract.image_to_string(Cropped_loc,config=custom_config)\n",
    "        print(text)\n",
    "        cv2.waitKey(0)\n",
    "        cv2.destroyAllWindows()\n",
    "        break"
   ]
  },
  {
   "cell_type": "code",
   "execution_count": 8,
   "id": "e6ebec25-acd3-40b4-8012-bd14160498de",
   "metadata": {},
   "outputs": [],
   "source": [
    "import tkinter as tk\n",
    "import tkinter\n",
    "from PIL import ImageTk, Image\n",
    "import tkinter.font as tkFont\n",
    "from PIL import Image\n",
    "from ipywidgets import FileUpload\n",
    "from tkinter import filedialog\n",
    "from tkinter.filedialog import askopenfile\n",
    "\n",
    "\n",
    "root = tk.Tk()\n",
    "\n",
    "canvas1=tk.Canvas(root, width = 1000, height = 500)\n",
    "canvas1.pack()\n",
    "\n",
    "canvas1.configure(bg='light blue')\n",
    "\n",
    "label1= tk.Label(root, text=' Number Plate Detector ', font=('Times', 20))\n",
    "canvas1.create_window(150, 30, window=label1)\n",
    "label2= tk.Label(root,text='Original Image', font=('Helvetica bold', 15))\n",
    "canvas1.create_window(750, 80, window=label2)\n",
    "\n",
    "button1 = tk.Button (root, text=' Detect Number Plate ',command=values, bg='orange', font=('Helvetica bold', 12))\n",
    "canvas1.create_window(150, 180, window=button1)\n",
    "button2 = tk.Button (root, text='Upload Image',command = lambda:upload_file(), bg='orange', font=('Helvetica bold', 12))\n",
    "canvas1.create_window(150, 140, window=button2)\n",
    "\n",
    "label4= tk.Label(root,text='The number plate will appear in a different window', font=('Helvetica bold', 13))\n",
    "canvas1.create_window(200, 300, window=label4)\n",
    "\n",
    "def upload_file():\n",
    "    global img\n",
    "    f_types = [('Jpg Files', '*.jpg')]\n",
    "    filename = filedialog.askopenfilename(filetypes=f_types)\n",
    "    img = ImageTk.PhotoImage(file=filename)\n",
    "    img=Image.open(filename)\n",
    "    img_resized=img.resize((400,300)) # new width & height\n",
    "    img=ImageTk.PhotoImage(img_resized)\n",
    "    label9= tk.Label(root,image=img)\n",
    "    canvas1.create_window(750,280, window=label9)\n",
    "\n",
    "root.mainloop()"
   ]
  },
  {
   "cell_type": "code",
   "execution_count": null,
   "id": "09dbf63a-bf1f-45d3-9187-a01e60374b80",
   "metadata": {},
   "outputs": [],
   "source": []
  }
 ],
 "metadata": {
  "kernelspec": {
   "display_name": "Python 3 (ipykernel)",
   "language": "python",
   "name": "python3"
  },
  "language_info": {
   "codemirror_mode": {
    "name": "ipython",
    "version": 3
   },
   "file_extension": ".py",
   "mimetype": "text/x-python",
   "name": "python",
   "nbconvert_exporter": "python",
   "pygments_lexer": "ipython3",
   "version": "3.9.7"
  }
 },
 "nbformat": 4,
 "nbformat_minor": 5
}
